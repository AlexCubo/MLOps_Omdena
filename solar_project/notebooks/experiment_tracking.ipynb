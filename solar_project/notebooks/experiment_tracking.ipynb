{
 "cells": [
  {
   "cell_type": "markdown",
   "id": "4f8df461",
   "metadata": {},
   "source": [
    "## Experiment tracking using Neptune and MLflow"
   ]
  },
  {
   "cell_type": "code",
   "execution_count": 1,
   "id": "6cf18fa6",
   "metadata": {},
   "outputs": [],
   "source": [
    "#import base libraries\n",
    "import numpy as np\n",
    "import pandas as pd\n",
    "import seaborn as sns\n",
    "import matplotlib.pyplot as plt"
   ]
  },
  {
   "cell_type": "code",
   "execution_count": 2,
   "id": "31a18b32",
   "metadata": {},
   "outputs": [],
   "source": [
    "# import serializer\n",
    "import pickle"
   ]
  },
  {
   "cell_type": "code",
   "execution_count": 3,
   "id": "9e42220b",
   "metadata": {},
   "outputs": [],
   "source": [
    "# import neptune libraries and sklearn integration\n",
    "import neptune.new as neptune\n",
    "import neptune.new.integrations.sklearn as npt_skl"
   ]
  },
  {
   "cell_type": "code",
   "execution_count": 4,
   "id": "acbb5fc9",
   "metadata": {},
   "outputs": [],
   "source": [
    "# import mlflow and libraries\n",
    "import mlflow\n",
    "import mlflow.sklearn"
   ]
  },
  {
   "cell_type": "markdown",
   "id": "85c5fb7a",
   "metadata": {},
   "source": [
    "### Experiment tracking with Neptune"
   ]
  },
  {
   "cell_type": "code",
   "execution_count": 5,
   "id": "33e2ec2c",
   "metadata": {},
   "outputs": [
    {
     "name": "stdout",
     "output_type": "stream",
     "text": [
      "https://app.neptune.ai/alessandro.cubeddu/omdena-mlops-solar/e/OM-4\n"
     ]
    },
    {
     "name": "stderr",
     "output_type": "stream",
     "text": [
      "Info (NVML): NVML Shared Library Not Found. GPU usage metrics may not be reported. For more information, see https://docs-legacy.neptune.ai/logging-and-managing-experiment-results/logging-experiment-data.html#hardware-consumption \n"
     ]
    },
    {
     "name": "stdout",
     "output_type": "stream",
     "text": [
      "Remember to stop your run once you’ve finished logging your metadata (https://docs.neptune.ai/api-reference/run#stop). It will be stopped automatically only when the notebook kernel/interactive console is terminated.\n"
     ]
    }
   ],
   "source": [
    "run = neptune.init(\n",
    "    project=\"alessandro.cubeddu/omdena-mlops-solar\",\n",
    "    api_token=\"eyJhcGlfYWRkcmVzcyI6Imh0dHBzOi8vYXBwLm5lcHR1bmUuYWkiLCJhcGlfdXJsIjoiaHR0cHM6Ly9hcHAubmVwdHVuZS5haSIsImFwaV9rZXkiOiJjZTRjYjkzNy0wODlhLTQyZmQtODdjYS1kMWM2YzQ1NTY0OTUifQ==\",\n",
    "    name='solar-irradiation',\n",
    "    source_files=['model_dev_val_export_solar_radiation.ipynb']\n",
    ")  # your credentials"
   ]
  },
  {
   "cell_type": "markdown",
   "id": "8dc27503",
   "metadata": {},
   "source": [
    "#### Track files, models and folders"
   ]
  },
  {
   "cell_type": "code",
   "execution_count": 6,
   "id": "6b43a520",
   "metadata": {},
   "outputs": [],
   "source": [
    "# tracking files\n",
    "run[\"cleaned_datasets\"].track_files(\"../datasets/cleaned/\")\n",
    "run[\"raw_datasets\"].track_files(\"../datasets/raw/\")\n",
    "\n",
    "# tracking folders\n",
    "run[\"notebooks\"].track_files(\"../notebooks/\")"
   ]
  },
  {
   "cell_type": "markdown",
   "id": "6d42afa5",
   "metadata": {},
   "source": [
    "#### train and test models while tracking the experiment"
   ]
  },
  {
   "cell_type": "code",
   "execution_count": 7,
   "id": "62e057a9",
   "metadata": {},
   "outputs": [],
   "source": [
    "# load models\n",
    "pipeline_lr = pickle.load(open(\"../bin/models/lr_model.pkl\", \"rb\"))\n",
    "pipeline_rf = pickle.load(open(\"../bin/models/rf_model.pkl\", \"rb\"))\n",
    "pipeline_gbr = pickle.load(open(\"../bin/models/gbr_model.pkl\", \"rb\"))"
   ]
  },
  {
   "cell_type": "code",
   "execution_count": 8,
   "id": "4449c095",
   "metadata": {},
   "outputs": [],
   "source": [
    "# load splitted data\n",
    "with open(\"../bin/var/splitted_data.pkl\", \"rb\") as data:\n",
    "    data_list = pickle.load(data)"
   ]
  },
  {
   "cell_type": "code",
   "execution_count": 9,
   "id": "b92e8b53",
   "metadata": {},
   "outputs": [],
   "source": [
    "X_train = data_list[0]\n",
    "y_train = data_list[1]\n",
    "X_test = data_list[2]\n",
    "y_test = data_list[3]\n",
    "X_val = data_list[4]\n",
    "y_val = data_list[5]"
   ]
  },
  {
   "cell_type": "code",
   "execution_count": 10,
   "id": "c9b57e29",
   "metadata": {},
   "outputs": [
    {
     "name": "stdout",
     "output_type": "stream",
     "text": [
      "(591, 10)\n",
      "(591,)\n",
      "(127, 10)\n",
      "(127,)\n",
      "(127, 10)\n",
      "(127,)\n"
     ]
    }
   ],
   "source": [
    "for d in data_list:\n",
    "    print(d.shape)"
   ]
  },
  {
   "cell_type": "code",
   "execution_count": 11,
   "id": "950ea48b",
   "metadata": {},
   "outputs": [
    {
     "name": "stdout",
     "output_type": "stream",
     "text": [
      "Did not log feature importance chart. Error: could not find feature importances param on Pipeline\n",
      "Did not log feature importance chart. Error: could not find feature importances param on Pipeline\n",
      "Did not log feature importance chart. Error: could not find feature importances param on Pipeline\n"
     ]
    },
    {
     "data": {
      "image/png": "[encoded data removed]",
      "text/plain": [
       "<Figure size 576x396 with 1 Axes>"
      ]
     },
     "metadata": {},
     "output_type": "display_data"
    },
    {
     "data": {
      "image/png": "[encoded data removed]",
      "text/plain": [
       "<Figure size 576x396 with 1 Axes>"
      ]
     },
     "metadata": {},
     "output_type": "display_data"
    },
    {
     "data": {
      "image/png": "[encoded data removed]",
      "text/plain": [
       "<Figure size 576x396 with 1 Axes>"
      ]
     },
     "metadata": {},
     "output_type": "display_data"
    }
   ],
   "source": [
    "run['lr_summary'] = npt_skl.create_regressor_summary(pipeline_lr, X_train, X_test, y_train, y_test)\n",
    "\n",
    "run['rf_summary'] = npt_skl.create_regressor_summary(pipeline_rf, X_train, X_test, y_train, y_test)\n",
    "\n",
    "run['gbr_summary'] = npt_skl.create_regressor_summary(pipeline_gbr, X_train, X_test, y_train, y_test)"
   ]
  },
  {
   "cell_type": "markdown",
   "id": "17f31222",
   "metadata": {},
   "source": [
    "#### stop experiment"
   ]
  },
  {
   "cell_type": "code",
   "execution_count": 12,
   "id": "5a04d847",
   "metadata": {},
   "outputs": [
    {
     "name": "stdout",
     "output_type": "stream",
     "text": [
      "Shutting down background jobs, please wait a moment...\n",
      "Done!\n"
     ]
    },
    {
     "name": "stderr",
     "output_type": "stream",
     "text": [
      "Waiting for the remaining 55 operations to synchronize with Neptune. Do not kill this process.\n"
     ]
    },
    {
     "name": "stdout",
     "output_type": "stream",
     "text": [
      "All 55 operations synced, thanks for waiting!\n"
     ]
    }
   ],
   "source": [
    "run.stop()"
   ]
  }
 ],
 "metadata": {
  "kernelspec": {
   "display_name": "Python [conda env:MLOps_Omdena]",
   "language": "python",
   "name": "conda-env-MLOps_Omdena-py"
  },
  "language_info": {
   "codemirror_mode": {
    "name": "ipython",
    "version": 3
   },
   "file_extension": ".py",
   "mimetype": "text/x-python",
   "name": "python",
   "nbconvert_exporter": "python",
   "pygments_lexer": "ipython3",
   "version": "3.9.7"
  }
 },
 "nbformat": 4,
 "nbformat_minor": 5
}
