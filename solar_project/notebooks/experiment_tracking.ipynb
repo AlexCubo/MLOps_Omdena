{
 "cells": [
  {
   "cell_type": "markdown",
   "id": "0f3ac5b4",
   "metadata": {},
   "source": [
    "## Experiment tracking using Neptune and MLflow"
   ]
  },
  {
   "cell_type": "code",
   "execution_count": 1,
   "id": "f23ff26c",
   "metadata": {},
   "outputs": [],
   "source": [
    "#import base libraries\n",
    "import numpy as np\n",
    "import pandas as pd\n",
    "import seaborn as sns\n",
    "import matplotlib.pyplot as plt"
   ]
  },
  {
   "cell_type": "code",
   "execution_count": 2,
   "id": "c78bd8a7",
   "metadata": {},
   "outputs": [],
   "source": [
    "# importing model metrics\n",
    "from sklearn.metrics import r2_score\n",
    "from sklearn.metrics import mean_absolute_error\n",
    "from sklearn.metrics import mean_squared_error"
   ]
  },
  {
   "cell_type": "code",
   "execution_count": 3,
   "id": "7e0a69f4",
   "metadata": {},
   "outputs": [],
   "source": [
    "# import serializer\n",
    "import pickle"
   ]
  },
  {
   "cell_type": "code",
   "execution_count": 4,
   "id": "92ceb0d5",
   "metadata": {},
   "outputs": [],
   "source": [
    "# import neptune libraries and sklearn integration\n",
    "import neptune.new as neptune\n",
    "import neptune.new.integrations.sklearn as npt_skl"
   ]
  },
  {
   "cell_type": "code",
   "execution_count": 5,
   "id": "a2fa70d4",
   "metadata": {},
   "outputs": [],
   "source": [
    "# import mlflow and libraries\n",
    "import mlflow\n",
    "import mlflow.sklearn"
   ]
  },
  {
   "cell_type": "markdown",
   "id": "7073d66e",
   "metadata": {},
   "source": [
    "### Load models and variables"
   ]
  },
  {
   "cell_type": "code",
   "execution_count": 6,
   "id": "88ff9a5f",
   "metadata": {},
   "outputs": [],
   "source": [
    "# load models\n",
    "pipeline_lr = pickle.load(open(\"../bin/models/lr_model.pkl\", \"rb\"))\n",
    "pipeline_rf = pickle.load(open(\"../bin/models/rf_model.pkl\", \"rb\"))\n",
    "pipeline_gbr = pickle.load(open(\"../bin/models/gbr_model.pkl\", \"rb\"))"
   ]
  },
  {
   "cell_type": "code",
   "execution_count": 7,
   "id": "1a14f975",
   "metadata": {},
   "outputs": [],
   "source": [
    "# load splitted data\n",
    "with open(\"../bin/var/splitted_data.pkl\", \"rb\") as data:\n",
    "    data_list = pickle.load(data)"
   ]
  },
  {
   "cell_type": "code",
   "execution_count": 8,
   "id": "98694cda",
   "metadata": {},
   "outputs": [],
   "source": [
    "X_train = data_list[0]\n",
    "y_train = data_list[1]\n",
    "X_test = data_list[2]\n",
    "y_test = data_list[3]\n",
    "X_val = data_list[4]\n",
    "y_val = data_list[5]"
   ]
  },
  {
   "cell_type": "code",
   "execution_count": 9,
   "id": "8796bb40",
   "metadata": {},
   "outputs": [
    {
     "name": "stdout",
     "output_type": "stream",
     "text": [
      "(591, 10)\n",
      "(591,)\n",
      "(127, 10)\n",
      "(127,)\n",
      "(127, 10)\n",
      "(127,)\n"
     ]
    }
   ],
   "source": [
    "for d in data_list:\n",
    "    print(d.shape)"
   ]
  },
  {
   "cell_type": "markdown",
   "id": "b05ac6bb",
   "metadata": {},
   "source": [
    "### Experiment tracking with Neptune"
   ]
  },
  {
   "cell_type": "code",
   "execution_count": 10,
   "id": "50cce472",
   "metadata": {},
   "outputs": [
    {
     "name": "stdout",
     "output_type": "stream",
     "text": [
      "https://app.neptune.ai/alessandro.cubeddu/omdena-mlops-solar/e/OM-14\n"
     ]
    },
    {
     "name": "stderr",
     "output_type": "stream",
     "text": [
      "Info (NVML): NVML Shared Library Not Found. GPU usage metrics may not be reported. For more information, see https://docs-legacy.neptune.ai/logging-and-managing-experiment-results/logging-experiment-data.html#hardware-consumption \n"
     ]
    },
    {
     "name": "stdout",
     "output_type": "stream",
     "text": [
      "Remember to stop your run once you’ve finished logging your metadata (https://docs.neptune.ai/api-reference/run#stop). It will be stopped automatically only when the notebook kernel/interactive console is terminated.\n"
     ]
    }
   ],
   "source": [
    "run = neptune.init(\n",
    "    project=\"alessandro.cubeddu/omdena-mlops-solar\",\n",
    "    api_token=\"eyJhcGlfYWRkcmVzcyI6Imh0dHBzOi8vYXBwLm5lcHR1bmUuYWkiLCJhcGlfdXJsIjoiaHR0cHM6Ly9hcHAubmVwdHVuZS5haSIsImFwaV9rZXkiOiJjZTRjYjkzNy0wODlhLTQyZmQtODdjYS1kMWM2YzQ1NTY0OTUifQ==\",\n",
    "    name='solar-irradiation',\n",
    "    source_files=['model_dev_val_export_solar_radiation.ipynb']\n",
    ")  # your credentials"
   ]
  },
  {
   "cell_type": "markdown",
   "id": "49c9b022",
   "metadata": {},
   "source": [
    "#### Track files, models and folders"
   ]
  },
  {
   "cell_type": "code",
   "execution_count": 11,
   "id": "5570b7f7",
   "metadata": {},
   "outputs": [],
   "source": [
    "# tracking files\n",
    "run[\"cleaned_datasets\"].track_files(\"../datasets/cleaned/\")\n",
    "run[\"raw_datasets\"].track_files(\"../datasets/raw/\")\n",
    "\n",
    "# tracking folders\n",
    "run[\"notebooks\"].track_files(\"../notebooks/\")"
   ]
  },
  {
   "cell_type": "markdown",
   "id": "c4e1ea44",
   "metadata": {},
   "source": [
    "#### train and test models while tracking the experiment"
   ]
  },
  {
   "cell_type": "code",
   "execution_count": 12,
   "id": "3a3ce159",
   "metadata": {},
   "outputs": [
    {
     "name": "stdout",
     "output_type": "stream",
     "text": [
      "Did not log feature importance chart. Error: could not find feature importances param on Pipeline\n",
      "Did not log feature importance chart. Error: could not find feature importances param on Pipeline\n",
      "Did not log feature importance chart. Error: could not find feature importances param on Pipeline\n"
     ]
    },
    {
     "data": {
      "image/png": "[encoded data removed]",
      "text/plain": [
       "<Figure size 576x396 with 1 Axes>"
      ]
     },
     "metadata": {},
     "output_type": "display_data"
    },
    {
     "data": {
      "image/png": "[encoded data removed]",
      "text/plain": [
       "<Figure size 576x396 with 1 Axes>"
      ]
     },
     "metadata": {},
     "output_type": "display_data"
    },
    {
     "data": {
      "image/png": "[encoded data removed]",
      "text/plain": [
       "<Figure size 576x396 with 1 Axes>"
      ]
     },
     "metadata": {},
     "output_type": "display_data"
    }
   ],
   "source": [
    "run['lr_summary'] = npt_skl.create_regressor_summary(pipeline_lr, X_train, X_test, y_train, y_test)\n",
    "run['rfr_summary'] = npt_skl.create_regressor_summary(pipeline_rf, X_train, X_test, y_train, y_test)\n",
    "run['gbr_summary'] = npt_skl.create_regressor_summary(pipeline_gbr, X_train, X_test, y_train, y_test)"
   ]
  },
  {
   "cell_type": "markdown",
   "id": "72f71e32",
   "metadata": {},
   "source": [
    "#### stop experiment"
   ]
  },
  {
   "cell_type": "code",
   "execution_count": 13,
   "id": "3336965b",
   "metadata": {},
   "outputs": [
    {
     "name": "stdout",
     "output_type": "stream",
     "text": [
      "Shutting down background jobs, please wait a moment...\n",
      "Done!\n"
     ]
    },
    {
     "name": "stderr",
     "output_type": "stream",
     "text": [
      "Waiting for the remaining 107 operations to synchronize with Neptune. Do not kill this process.\n"
     ]
    },
    {
     "name": "stdout",
     "output_type": "stream",
     "text": [
      "All 107 operations synced, thanks for waiting!\n"
     ]
    }
   ],
   "source": [
    "run.stop()"
   ]
  },
  {
   "cell_type": "markdown",
   "id": "d318c5c9",
   "metadata": {},
   "source": [
    "### Experiment tracking with MLflow"
   ]
  },
  {
   "cell_type": "markdown",
   "id": "795f14ef",
   "metadata": {},
   "source": [
    "#### Evaluation of Linear Regressor, Random Forest and Gradient Boosting Regressor"
   ]
  },
  {
   "cell_type": "code",
   "execution_count": 14,
   "id": "6fa0b02d",
   "metadata": {},
   "outputs": [],
   "source": [
    "# model metrics for linear regression\n",
    "y_test_lr_pred = pipeline_lr.predict(X_test)\n",
    "mse_test_lr = mean_squared_error(y_test, y_test_lr_pred, squared=True)\n",
    "mae_test_lr = mean_absolute_error(y_test, y_test_lr_pred)\n",
    "r2_test_lr = r2_score(y_test, y_test_lr_pred)"
   ]
  },
  {
   "cell_type": "code",
   "execution_count": 15,
   "id": "3bae8cc2",
   "metadata": {},
   "outputs": [],
   "source": [
    "# model metrics for Random Forest Regressor\n",
    "y_test_rf_pred = pipeline_rf.predict(X_test)\n",
    "mse_test_rf = mean_squared_error(y_test, y_test_rf_pred, squared=True)\n",
    "mae_test_rf = mean_absolute_error(y_test, y_test_rf_pred)\n",
    "r2_test_rf = r2_score(y_test, y_test_rf_pred)"
   ]
  },
  {
   "cell_type": "code",
   "execution_count": 16,
   "id": "ddf0dc9e",
   "metadata": {},
   "outputs": [],
   "source": [
    "# model metrics for Gradient Boosting Regressor\n",
    "y_test_gbr_pred = pipeline_gbr.predict(X_test)\n",
    "mse_test_gbr = mean_squared_error(y_test, y_test_gbr_pred, squared=True)\n",
    "mae_test_gbr = mean_absolute_error(y_test, y_test_gbr_pred)\n",
    "r2_test_gbr = r2_score(y_test, y_test_gbr_pred)"
   ]
  },
  {
   "cell_type": "markdown",
   "id": "7f687d78",
   "metadata": {},
   "source": [
    "#### manually log experiment"
   ]
  },
  {
   "cell_type": "markdown",
   "id": "d87f50ac",
   "metadata": {},
   "source": [
    "<span style=\"color:red\"> **Att:** before running commands below, run on the bash (in the same folder of this file , i.e. notebooks/)the following command:   \n",
    "    $ mlflow server --backend-store-uri sqlite:///mlflow.db  --default-artifact-root ./artifacts --host 0.0.0.0\n",
    "</span>"
   ]
  },
  {
   "cell_type": "code",
   "execution_count": 17,
   "id": "04c216c3",
   "metadata": {
    "scrolled": false
   },
   "outputs": [],
   "source": [
    "mlflow.set_tracking_uri(\"http://127.0.0.1:5000/\")\n",
    "experiment = mlflow.get_experiment('0')"
   ]
  },
  {
   "cell_type": "code",
   "execution_count": 18,
   "id": "08da670b",
   "metadata": {},
   "outputs": [
    {
     "name": "stdout",
     "output_type": "stream",
     "text": [
      "Name of experiment: Default\n",
      "Location of Artifact: ./artifacts/0\n",
      "Life cycle phase: active\n",
      "Experiment_ID: 0\n"
     ]
    }
   ],
   "source": [
    "print(\"Name of experiment: {}\".format(experiment.name))\n",
    "print(\"Location of Artifact: {}\".format(experiment.artifact_location))\n",
    "print(\"Life cycle phase: {}\".format(experiment.lifecycle_stage))\n",
    "print(\"Experiment_ID: {}\".format(experiment.experiment_id))"
   ]
  },
  {
   "cell_type": "code",
   "execution_count": 19,
   "id": "0ec0bb33",
   "metadata": {},
   "outputs": [],
   "source": [
    "# start experiment tracking\n",
    "run = mlflow.start_run(run_name=\"solar_irradiation\")\n",
    "run_id = run.info.run_id"
   ]
  },
  {
   "cell_type": "code",
   "execution_count": 20,
   "id": "71f92aed",
   "metadata": {},
   "outputs": [
    {
     "data": {
      "text/plain": [
       "'20fdfb2970fb493a85ebfd56848f5416'"
      ]
     },
     "execution_count": 20,
     "metadata": {},
     "output_type": "execute_result"
    }
   ],
   "source": [
    "run_id"
   ]
  },
  {
   "cell_type": "code",
   "execution_count": 21,
   "id": "02b92243",
   "metadata": {},
   "outputs": [],
   "source": [
    "# log mlflow attributes for mlflow UI\n",
    "\n",
    "# log metrics for linear regression\n",
    "mlflow.log_metric('mse_lr', mse_test_lr)\n",
    "mlflow.log_metric('mae_lr', mae_test_lr)\n",
    "mlflow.log_metric('r2_lr', r2_test_lr)\n",
    "\n",
    "# log metrics for Random Forest regressor\n",
    "mlflow.log_metric('mse_rf', mse_test_rf)\n",
    "mlflow.log_metric('mae_rf', mae_test_rf)\n",
    "mlflow.log_metric('r2_rf', r2_test_rf)\n",
    "\n",
    "# log metrics for Gradient Boosting Regressor\n",
    "mlflow.log_metric('mse_gbr', mse_test_gbr)\n",
    "mlflow.log_metric('mae_gbr', mae_test_gbr)\n",
    "mlflow.log_metric('r2_gbr', r2_test_gbr)"
   ]
  },
  {
   "cell_type": "code",
   "execution_count": 22,
   "id": "1c8aabec",
   "metadata": {},
   "outputs": [
    {
     "data": {
      "text/plain": [
       "{'name': 'mlflow-env',\n",
       " 'channels': ['conda-forge'],\n",
       " 'dependencies': ['python=3.9.7',\n",
       "  'pip',\n",
       "  {'pip': ['mlflow', 'scikit-learn==0.24.2']}]}"
      ]
     },
     "execution_count": 22,
     "metadata": {},
     "output_type": "execute_result"
    }
   ],
   "source": [
    "mlflow.sklearn.get_default_conda_env()"
   ]
  },
  {
   "cell_type": "code",
   "execution_count": 23,
   "id": "3d2b15a5",
   "metadata": {},
   "outputs": [
    {
     "data": {
      "text/plain": [
       "sklearn.pipeline.Pipeline"
      ]
     },
     "execution_count": 23,
     "metadata": {},
     "output_type": "execute_result"
    }
   ],
   "source": [
    "type(pipeline_lr)"
   ]
  },
  {
   "cell_type": "code",
   "execution_count": 24,
   "id": "3b6546d1",
   "metadata": {},
   "outputs": [
    {
     "name": "stderr",
     "output_type": "stream",
     "text": [
      "Successfully registered model 'linear-reg-model'.\n",
      "2022/01/04 10:41:15 INFO mlflow.tracking._model_registry.client: Waiting up to 300 seconds for model version to finish creation.                     Model name: linear-reg-model, version 1\n",
      "Created version '1' of model 'linear-reg-model'.\n",
      "Successfully registered model 'random-forest-reg-model'.\n",
      "2022/01/04 10:41:17 INFO mlflow.tracking._model_registry.client: Waiting up to 300 seconds for model version to finish creation.                     Model name: random-forest-reg-model, version 1\n",
      "Created version '1' of model 'random-forest-reg-model'.\n",
      "Successfully registered model 'gradient-boosting-reg-model'.\n",
      "2022/01/04 10:41:19 INFO mlflow.tracking._model_registry.client: Waiting up to 300 seconds for model version to finish creation.                     Model name: gradient-boosting-reg-model, version 1\n",
      "Created version '1' of model 'gradient-boosting-reg-model'.\n"
     ]
    }
   ],
   "source": [
    "# log models experiments\n",
    "path = 'default'\n",
    "mlflow.sklearn.log_model(pipeline_lr, path, registered_model_name='linear-reg-model')\n",
    "mlflow.sklearn.log_model(pipeline_rf, path, registered_model_name='random-forest-reg-model')\n",
    "mlflow.sklearn.log_model(pipeline_gbr, path, registered_model_name='gradient-boosting-reg-model')\n"
   ]
  },
  {
   "cell_type": "code",
   "execution_count": 25,
   "id": "adb2238d",
   "metadata": {},
   "outputs": [],
   "source": [
    "# log artifacts (output files)\n",
    "\n",
    "# plots\n",
    "mlflow.log_artifact(\"../pictures/lr_pred_and_fit.jpg\", artifact_path=\"plots\")\n",
    "mlflow.log_artifact(\"../pictures/rf_pred_and_fit.jpg\", artifact_path=\"plots\")\n",
    "mlflow.log_artifact(\"../pictures/gbr_pred_and_fit.jpg\", artifact_path=\"plots\")\n",
    "mlflow.log_artifact(\"../pictures/lr_jointplot.jpg\", artifact_path=\"plots\")\n",
    "mlflow.log_artifact(\"../pictures/rf_jointplot.jpg\", artifact_path=\"plots\")\n",
    "mlflow.log_artifact(\"../pictures/gbr_jointplot.jpg\", artifact_path=\"plots\")\n",
    "\n",
    "# features\n",
    "mlflow.log_artifact(\"../datasets/cleaned/train.csv\", artifact_path=\"features\")\n",
    "mlflow.log_artifact(\"../datasets/cleaned/test.csv\", artifact_path=\"features\")\n",
    "mlflow.log_artifact(\"../datasets/cleaned/validation.csv\", artifact_path=\"features\")"
   ]
  },
  {
   "cell_type": "code",
   "execution_count": 26,
   "id": "7255d25e",
   "metadata": {},
   "outputs": [],
   "source": [
    "# end experiment\n",
    "mlflow.end_run()"
   ]
  },
  {
   "cell_type": "markdown",
   "id": "e22a37c8",
   "metadata": {},
   "source": [
    "#### Auto log experiment"
   ]
  },
  {
   "cell_type": "code",
   "execution_count": 27,
   "id": "284639cd",
   "metadata": {},
   "outputs": [],
   "source": [
    "# enable auto logging --> log_models=True means that \"trained models are logged as MLflow model artifacts\"\n",
    "mlflow.sklearn.autolog(log_models=True)"
   ]
  },
  {
   "cell_type": "code",
   "execution_count": 28,
   "id": "d5886dc8",
   "metadata": {},
   "outputs": [
    {
     "name": "stderr",
     "output_type": "stream",
     "text": [
      "2022/01/04 10:41:20 WARNING mlflow.utils: Truncated the value of the key `steps`. Truncated value: `[('columntransformer', ColumnTransformer(transformers=[('OneHot',\n",
      "                                 OneHotEncoder(handle_unknown='ignore',\n",
      "                                               sparse=False),\n",
      "                                 ['month', 'yea...`\n",
      "2022/01/04 10:41:20 WARNING mlflow.utils: Truncated the value of the key `columntransformer`. Truncated value: `ColumnTransformer(transformers=[('OneHot',\n",
      "                                 OneHotEncoder(handle_unknown='ignore',\n",
      "                                               sparse=False),\n",
      "                                 ['month', 'year']),\n",
      "                 ...`\n",
      "2022/01/04 10:41:20 WARNING mlflow.utils.autologging_utils: MLflow autologging encountered a warning: \"/home/cubo/anaconda3/envs/MLOps_Omdena/lib/python3.9/site-packages/mlflow/models/signature.py:129: UserWarning: Hint: Inferred schema contains integer column(s). Integer columns in Python cannot represent missing values. If your input data contains missing values at inference time, it will be encoded as floats and will cause a schema enforcement error. The best way to avoid this problem is to infer the model schema based on a realistic data sample (training dataset) that includes missing values. Alternatively, you can declare integer columns as doubles (float64) whenever these columns may have missing values. See `Handling Integers With Missing Values <https://www.mlflow.org/docs/latest/models.html#handling-integers-with-missing-values>`_ for more details.\"\n",
      "2022/01/04 10:41:27 WARNING mlflow.utils: Truncated the value of the key `steps`. Truncated value: `[('columntransformer', ColumnTransformer(transformers=[('OneHot',\n",
      "                                 OneHotEncoder(handle_unknown='ignore',\n",
      "                                               sparse=False),\n",
      "                                 ['month', 'yea...`\n",
      "2022/01/04 10:41:27 WARNING mlflow.utils: Truncated the value of the key `columntransformer`. Truncated value: `ColumnTransformer(transformers=[('OneHot',\n",
      "                                 OneHotEncoder(handle_unknown='ignore',\n",
      "                                               sparse=False),\n",
      "                                 ['month', 'year']),\n",
      "                 ...`\n",
      "2022/01/04 10:41:27 WARNING mlflow.utils.autologging_utils: MLflow autologging encountered a warning: \"/home/cubo/anaconda3/envs/MLOps_Omdena/lib/python3.9/site-packages/mlflow/models/signature.py:129: UserWarning: Hint: Inferred schema contains integer column(s). Integer columns in Python cannot represent missing values. If your input data contains missing values at inference time, it will be encoded as floats and will cause a schema enforcement error. The best way to avoid this problem is to infer the model schema based on a realistic data sample (training dataset) that includes missing values. Alternatively, you can declare integer columns as doubles (float64) whenever these columns may have missing values. See `Handling Integers With Missing Values <https://www.mlflow.org/docs/latest/models.html#handling-integers-with-missing-values>`_ for more details.\"\n",
      "2022/01/04 10:41:32 WARNING mlflow.utils: Truncated the value of the key `steps`. Truncated value: `[('columntransformer', ColumnTransformer(remainder='passthrough',\n",
      "                  transformers=[('StandardScaler', RobustScaler(),\n",
      "                                 ['daily_temp', 'daily_rain', 'daily_hum',\n",
      "                                  'dail...`\n",
      "2022/01/04 10:41:32 WARNING mlflow.utils: Truncated the value of the key `columntransformer`. Truncated value: `ColumnTransformer(remainder='passthrough',\n",
      "                  transformers=[('StandardScaler', RobustScaler(),\n",
      "                                 ['daily_temp', 'daily_rain', 'daily_hum',\n",
      "                                  'daily_press', 'daily_windDi...`\n",
      "2022/01/04 10:41:32 WARNING mlflow.utils.autologging_utils: MLflow autologging encountered a warning: \"/home/cubo/anaconda3/envs/MLOps_Omdena/lib/python3.9/site-packages/mlflow/models/signature.py:129: UserWarning: Hint: Inferred schema contains integer column(s). Integer columns in Python cannot represent missing values. If your input data contains missing values at inference time, it will be encoded as floats and will cause a schema enforcement error. The best way to avoid this problem is to infer the model schema based on a realistic data sample (training dataset) that includes missing values. Alternatively, you can declare integer columns as doubles (float64) whenever these columns may have missing values. See `Handling Integers With Missing Values <https://www.mlflow.org/docs/latest/models.html#handling-integers-with-missing-values>`_ for more details.\"\n",
      "2022/01/04 10:41:35 WARNING mlflow.utils.autologging_utils: Encountered unexpected error during sklearn autologging: The following failures occurred while performing one or more logging operations: [MlflowException('Failed to perform one or more operations on the run with ID 2a7460ca6ce840688a47bbc10ef40081. Failed operations: [RestException(\"INVALID_PARAMETER_VALUE: Changing param values is not allowed. Param with key=\\'steps\\' was already logged with value=\\'[(\\'columntransformer\\', ColumnTransformer(transformers=[(\\'OneHot\\',\\\\n                                 OneHotEncoder(handle_unknown=\\'ignore\\',\\\\n                                               sparse=False),\\\\n                                 [\\'month\\', \\'yea...\\' for run ID=\\'2a7460ca6ce840688a47bbc10ef40081\\'. Attempted logging new value \\'[(\\'columntransformer\\', ColumnTransformer(remainder=\\'passthrough\\',\\\\n                  transformers=[(\\'StandardScaler\\', RobustScaler(),\\\\n                                 [\\'daily_temp\\', \\'daily_rain\\', \\'daily_hum\\',\\\\n                                  \\'dail...\\'.\")]')]\n"
     ]
    }
   ],
   "source": [
    "with mlflow.start_run(experiment_id=experiment.experiment_id, run_name=\"auto_log_models\") as run:\n",
    "    pipeline_lr.fit(X_train, y_train)\n",
    "    y_test_lr_autologPred = pipeline_lr.predict(X_test)\n",
    "    pipeline_rf.fit(X_train, y_train)\n",
    "    y_test_rf_autologPred = pipeline_rf.predict(X_test)\n",
    "    pipeline_gbr.fit(X_train, y_train)\n",
    "    y_test_gbr_autologPred = pipeline_gbr.predict(X_test)"
   ]
  },
  {
   "cell_type": "code",
   "execution_count": 29,
   "id": "15223344",
   "metadata": {},
   "outputs": [],
   "source": [
    "# end tracking\n",
    "mlflow.end_run()"
   ]
  }
 ],
 "metadata": {
  "kernelspec": {
   "display_name": "Python [conda env:MLOps_Omdena]",
   "language": "python",
   "name": "conda-env-MLOps_Omdena-py"
  },
  "language_info": {
   "codemirror_mode": {
    "name": "ipython",
    "version": 3
   },
   "file_extension": ".py",
   "mimetype": "text/x-python",
   "name": "python",
   "nbconvert_exporter": "python",
   "pygments_lexer": "ipython3",
   "version": "3.9.7"
  }
 },
 "nbformat": 4,
 "nbformat_minor": 5
}
