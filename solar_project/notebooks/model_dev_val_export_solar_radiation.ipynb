{
 "cells": [
  {
   "cell_type": "code",
   "execution_count": 1,
   "id": "ed2a6916",
   "metadata": {},
   "outputs": [],
   "source": [
    "import numpy as np\n",
    "import pandas as pd\n",
    "import seaborn as sns\n",
    "import matplotlib.pyplot as plt"
   ]
  },
  {
   "cell_type": "code",
   "execution_count": 2,
   "id": "b99cd9ff",
   "metadata": {},
   "outputs": [],
   "source": [
    "# import libraries for ML algorithms: training, metrics, evaluation\n",
    "\n",
    "# check sklearn version\n",
    "from sklearn import __version__\n",
    "\n",
    "# importing feature engineering tools\n",
    "from sklearn.preprocessing import StandardScaler, MinMaxScaler, RobustScaler, Normalizer\n",
    "from sklearn.preprocessing import KBinsDiscretizer\n",
    "from sklearn.preprocessing import OneHotEncoder\n",
    "from sklearn.compose import ColumnTransformer\n",
    "\n",
    "# importing ML models\n",
    "from sklearn.linear_model import LinearRegression\n",
    "from sklearn.ensemble import RandomForestRegressor\n",
    "from sklearn.ensemble import GradientBoostingRegressor\n",
    "\n",
    "# importing model selection\n",
    "from sklearn.model_selection import train_test_split\n",
    "from sklearn.model_selection import GridSearchCV\n",
    "\n",
    "# importing model metrics\n",
    "from sklearn.metrics import r2_score\n",
    "from sklearn.metrics import mean_absolute_error\n",
    "from sklearn.metrics import mean_squared_error\n",
    "\n",
    "# importing pipeline\n",
    "from sklearn.pipeline import make_pipeline"
   ]
  },
  {
   "cell_type": "code",
   "execution_count": 3,
   "id": "56a4264a",
   "metadata": {},
   "outputs": [],
   "source": [
    "# import libraries to save models\n",
    "import pickle\n",
    "import joblib"
   ]
  },
  {
   "cell_type": "code",
   "execution_count": 4,
   "id": "011e37a7",
   "metadata": {},
   "outputs": [],
   "source": [
    "# additional import libraries"
   ]
  },
  {
   "cell_type": "markdown",
   "id": "8ac48e42",
   "metadata": {},
   "source": [
    "### Help functions used in this notebook"
   ]
  },
  {
   "cell_type": "code",
   "execution_count": 5,
   "id": "1d941303",
   "metadata": {},
   "outputs": [],
   "source": [
    "def print_evaluation(mse, mae, r2, model_name):\n",
    "    '''Print nicely the evaluation metrics of the model. \n",
    "    Inputs: mse, mae, r2 arefloats. model_name is str. \n",
    "    Return None'''\n",
    "    print(f'Mean squared error ({model_name}) =', mse)\n",
    "    print(f'Mean absolute error ({model_name}) =', mae)\n",
    "    print(f'r2 score ({model_name}) =', r2)"
   ]
  },
  {
   "cell_type": "markdown",
   "id": "68e4d3a8",
   "metadata": {},
   "source": [
    "### Loading Data from hard disk"
   ]
  },
  {
   "cell_type": "code",
   "execution_count": 6,
   "id": "5ada695f",
   "metadata": {},
   "outputs": [],
   "source": [
    "# load cleaned data set\n",
    "cleaned_df = pd.read_csv(\"../datasets/cleaned/cleaned_daily_irr.csv\", sep=',', index_col=0, parse_dates=True )"
   ]
  },
  {
   "cell_type": "code",
   "execution_count": 7,
   "id": "d0cfd1eb",
   "metadata": {},
   "outputs": [
    {
     "data": {
      "text/html": [
       "<div>\n",
       "<style scoped>\n",
       "    .dataframe tbody tr th:only-of-type {\n",
       "        vertical-align: middle;\n",
       "    }\n",
       "\n",
       "    .dataframe tbody tr th {\n",
       "        vertical-align: top;\n",
       "    }\n",
       "\n",
       "    .dataframe thead th {\n",
       "        text-align: right;\n",
       "    }\n",
       "</style>\n",
       "<table border=\"1\" class=\"dataframe\">\n",
       "  <thead>\n",
       "    <tr style=\"text-align: right;\">\n",
       "      <th></th>\n",
       "      <th>month</th>\n",
       "      <th>year</th>\n",
       "      <th>daily_temp</th>\n",
       "      <th>daily_rain</th>\n",
       "      <th>daily_hum</th>\n",
       "      <th>daily_press</th>\n",
       "      <th>daily_windDir</th>\n",
       "      <th>daily_windSp</th>\n",
       "      <th>daily_DHI</th>\n",
       "      <th>daily_DNI</th>\n",
       "      <th>daily_GHI</th>\n",
       "    </tr>\n",
       "  </thead>\n",
       "  <tbody>\n",
       "    <tr>\n",
       "      <th>2019-08-31</th>\n",
       "      <td>8</td>\n",
       "      <td>2019</td>\n",
       "      <td>25.8</td>\n",
       "      <td>38.2</td>\n",
       "      <td>61.6</td>\n",
       "      <td>990.2</td>\n",
       "      <td>148.7</td>\n",
       "      <td>2.2</td>\n",
       "      <td>140.6</td>\n",
       "      <td>203.7</td>\n",
       "      <td>273.4</td>\n",
       "    </tr>\n",
       "    <tr>\n",
       "      <th>2019-09-01</th>\n",
       "      <td>9</td>\n",
       "      <td>2019</td>\n",
       "      <td>26.1</td>\n",
       "      <td>40.3</td>\n",
       "      <td>61.6</td>\n",
       "      <td>987.5</td>\n",
       "      <td>25.0</td>\n",
       "      <td>2.8</td>\n",
       "      <td>216.9</td>\n",
       "      <td>63.1</td>\n",
       "      <td>255.5</td>\n",
       "    </tr>\n",
       "    <tr>\n",
       "      <th>2019-09-02</th>\n",
       "      <td>9</td>\n",
       "      <td>2019</td>\n",
       "      <td>24.9</td>\n",
       "      <td>33.0</td>\n",
       "      <td>67.7</td>\n",
       "      <td>989.6</td>\n",
       "      <td>282.2</td>\n",
       "      <td>3.6</td>\n",
       "      <td>222.1</td>\n",
       "      <td>230.7</td>\n",
       "      <td>377.3</td>\n",
       "    </tr>\n",
       "  </tbody>\n",
       "</table>\n",
       "</div>"
      ],
      "text/plain": [
       "            month  year  daily_temp  daily_rain  daily_hum  daily_press  \\\n",
       "2019-08-31      8  2019        25.8        38.2       61.6        990.2   \n",
       "2019-09-01      9  2019        26.1        40.3       61.6        987.5   \n",
       "2019-09-02      9  2019        24.9        33.0       67.7        989.6   \n",
       "\n",
       "            daily_windDir  daily_windSp  daily_DHI  daily_DNI  daily_GHI  \n",
       "2019-08-31          148.7           2.2      140.6      203.7      273.4  \n",
       "2019-09-01           25.0           2.8      216.9       63.1      255.5  \n",
       "2019-09-02          282.2           3.6      222.1      230.7      377.3  "
      ]
     },
     "execution_count": 7,
     "metadata": {},
     "output_type": "execute_result"
    }
   ],
   "source": [
    "cleaned_df.head(3)"
   ]
  },
  {
   "cell_type": "markdown",
   "id": "de565ba8",
   "metadata": {},
   "source": [
    "### Divide the data into train, test, and validation: 70% train, 15% val, 15% test"
   ]
  },
  {
   "cell_type": "code",
   "execution_count": 8,
   "id": "8f912f35",
   "metadata": {},
   "outputs": [],
   "source": [
    "# split(data,[first_index, second_ndex]) divides the data into 3 parts: first part from beginnig to first_index-1,\n",
    "# second part from first_index to second_index-1 and last part from second_index to the end.\n",
    "#df.sample(frac=1) returns the entire df (because frac=1) shuffled\n",
    "train_data, val_data, test_data = np.split(cleaned_df.sample(frac=1), [int(0.7*len(cleaned_df)), int(0.85*len(cleaned_df))])\n",
    "\n",
    "#alternative method using sample(n=len(cleanded_df)) instead sample(frac=1)\n",
    "#train_data, val_data, test_data = np.split(cleaned_df.sample(n=len(cleaned_df)),[int(0.7*len(cleaned_df)), int(0.85*len(cleaned_df))])"
   ]
  },
  {
   "cell_type": "code",
   "execution_count": 9,
   "id": "8bdf3826",
   "metadata": {},
   "outputs": [],
   "source": [
    "# saving the generated splitted data\n",
    "train_data.to_csv(\"../datasets/cleaned/train.csv\", header=True, index=False)\n",
    "val_data.to_csv(\"../datasets/cleaned/validation.csv\", header=True, index=False)\n",
    "test_data.to_csv(\"../datasets/cleaned/test.csv\", header=True, index=False)"
   ]
  },
  {
   "cell_type": "code",
   "execution_count": 10,
   "id": "db4a3e69",
   "metadata": {},
   "outputs": [],
   "source": [
    "# training data\n",
    "train_df = pd.read_csv(\"../datasets/cleaned/train.csv\", sep=',')\n",
    "X_train = train_df.drop(columns=['daily_GHI'], axis=1)\n",
    "y_train = train_df['daily_GHI']"
   ]
  },
  {
   "cell_type": "code",
   "execution_count": 11,
   "id": "3c663245",
   "metadata": {},
   "outputs": [],
   "source": [
    "# test data\n",
    "test_df = pd.read_csv(\"../datasets/cleaned/test.csv\", sep=',')\n",
    "X_test = test_df.drop(columns=['daily_GHI'], axis=1)\n",
    "y_test = test_df['daily_GHI']"
   ]
  },
  {
   "cell_type": "code",
   "execution_count": 12,
   "id": "1bfbea4f",
   "metadata": {},
   "outputs": [
    {
     "data": {
      "text/html": [
       "<div>\n",
       "<style scoped>\n",
       "    .dataframe tbody tr th:only-of-type {\n",
       "        vertical-align: middle;\n",
       "    }\n",
       "\n",
       "    .dataframe tbody tr th {\n",
       "        vertical-align: top;\n",
       "    }\n",
       "\n",
       "    .dataframe thead th {\n",
       "        text-align: right;\n",
       "    }\n",
       "</style>\n",
       "<table border=\"1\" class=\"dataframe\">\n",
       "  <thead>\n",
       "    <tr style=\"text-align: right;\">\n",
       "      <th></th>\n",
       "      <th>month</th>\n",
       "      <th>year</th>\n",
       "      <th>daily_temp</th>\n",
       "      <th>daily_rain</th>\n",
       "      <th>daily_hum</th>\n",
       "      <th>daily_press</th>\n",
       "      <th>daily_windDir</th>\n",
       "      <th>daily_windSp</th>\n",
       "      <th>daily_DHI</th>\n",
       "      <th>daily_DNI</th>\n",
       "    </tr>\n",
       "  </thead>\n",
       "  <tbody>\n",
       "    <tr>\n",
       "      <th>0</th>\n",
       "      <td>5</td>\n",
       "      <td>2021</td>\n",
       "      <td>19.4</td>\n",
       "      <td>27.3</td>\n",
       "      <td>53.5</td>\n",
       "      <td>991.3</td>\n",
       "      <td>84.3</td>\n",
       "      <td>2.7</td>\n",
       "      <td>238.2</td>\n",
       "      <td>78.3</td>\n",
       "    </tr>\n",
       "    <tr>\n",
       "      <th>1</th>\n",
       "      <td>9</td>\n",
       "      <td>2019</td>\n",
       "      <td>20.7</td>\n",
       "      <td>19.7</td>\n",
       "      <td>67.7</td>\n",
       "      <td>990.3</td>\n",
       "      <td>272.6</td>\n",
       "      <td>6.6</td>\n",
       "      <td>287.9</td>\n",
       "      <td>94.0</td>\n",
       "    </tr>\n",
       "    <tr>\n",
       "      <th>2</th>\n",
       "      <td>10</td>\n",
       "      <td>2020</td>\n",
       "      <td>14.9</td>\n",
       "      <td>16.9</td>\n",
       "      <td>67.2</td>\n",
       "      <td>987.5</td>\n",
       "      <td>283.8</td>\n",
       "      <td>6.4</td>\n",
       "      <td>177.2</td>\n",
       "      <td>33.6</td>\n",
       "    </tr>\n",
       "    <tr>\n",
       "      <th>3</th>\n",
       "      <td>10</td>\n",
       "      <td>2020</td>\n",
       "      <td>16.0</td>\n",
       "      <td>22.6</td>\n",
       "      <td>72.2</td>\n",
       "      <td>979.4</td>\n",
       "      <td>231.3</td>\n",
       "      <td>5.8</td>\n",
       "      <td>171.2</td>\n",
       "      <td>4.4</td>\n",
       "    </tr>\n",
       "    <tr>\n",
       "      <th>4</th>\n",
       "      <td>1</td>\n",
       "      <td>2020</td>\n",
       "      <td>10.0</td>\n",
       "      <td>7.7</td>\n",
       "      <td>69.8</td>\n",
       "      <td>1002.4</td>\n",
       "      <td>226.5</td>\n",
       "      <td>1.6</td>\n",
       "      <td>41.5</td>\n",
       "      <td>589.8</td>\n",
       "    </tr>\n",
       "    <tr>\n",
       "      <th>...</th>\n",
       "      <td>...</td>\n",
       "      <td>...</td>\n",
       "      <td>...</td>\n",
       "      <td>...</td>\n",
       "      <td>...</td>\n",
       "      <td>...</td>\n",
       "      <td>...</td>\n",
       "      <td>...</td>\n",
       "      <td>...</td>\n",
       "      <td>...</td>\n",
       "    </tr>\n",
       "    <tr>\n",
       "      <th>122</th>\n",
       "      <td>5</td>\n",
       "      <td>2020</td>\n",
       "      <td>18.9</td>\n",
       "      <td>18.7</td>\n",
       "      <td>65.9</td>\n",
       "      <td>989.9</td>\n",
       "      <td>222.0</td>\n",
       "      <td>4.3</td>\n",
       "      <td>182.4</td>\n",
       "      <td>268.5</td>\n",
       "    </tr>\n",
       "    <tr>\n",
       "      <th>123</th>\n",
       "      <td>9</td>\n",
       "      <td>2020</td>\n",
       "      <td>23.0</td>\n",
       "      <td>30.3</td>\n",
       "      <td>64.2</td>\n",
       "      <td>988.8</td>\n",
       "      <td>232.2</td>\n",
       "      <td>5.1</td>\n",
       "      <td>176.9</td>\n",
       "      <td>177.4</td>\n",
       "    </tr>\n",
       "    <tr>\n",
       "      <th>124</th>\n",
       "      <td>9</td>\n",
       "      <td>2020</td>\n",
       "      <td>26.3</td>\n",
       "      <td>28.3</td>\n",
       "      <td>51.7</td>\n",
       "      <td>996.2</td>\n",
       "      <td>41.0</td>\n",
       "      <td>3.6</td>\n",
       "      <td>121.9</td>\n",
       "      <td>516.3</td>\n",
       "    </tr>\n",
       "    <tr>\n",
       "      <th>125</th>\n",
       "      <td>2</td>\n",
       "      <td>2021</td>\n",
       "      <td>11.6</td>\n",
       "      <td>16.9</td>\n",
       "      <td>76.6</td>\n",
       "      <td>977.3</td>\n",
       "      <td>238.1</td>\n",
       "      <td>7.4</td>\n",
       "      <td>170.9</td>\n",
       "      <td>114.3</td>\n",
       "    </tr>\n",
       "    <tr>\n",
       "      <th>126</th>\n",
       "      <td>8</td>\n",
       "      <td>2020</td>\n",
       "      <td>26.4</td>\n",
       "      <td>27.9</td>\n",
       "      <td>62.6</td>\n",
       "      <td>988.9</td>\n",
       "      <td>276.4</td>\n",
       "      <td>3.2</td>\n",
       "      <td>148.5</td>\n",
       "      <td>454.0</td>\n",
       "    </tr>\n",
       "  </tbody>\n",
       "</table>\n",
       "<p>127 rows × 10 columns</p>\n",
       "</div>"
      ],
      "text/plain": [
       "     month  year  daily_temp  daily_rain  daily_hum  daily_press  \\\n",
       "0        5  2021        19.4        27.3       53.5        991.3   \n",
       "1        9  2019        20.7        19.7       67.7        990.3   \n",
       "2       10  2020        14.9        16.9       67.2        987.5   \n",
       "3       10  2020        16.0        22.6       72.2        979.4   \n",
       "4        1  2020        10.0         7.7       69.8       1002.4   \n",
       "..     ...   ...         ...         ...        ...          ...   \n",
       "122      5  2020        18.9        18.7       65.9        989.9   \n",
       "123      9  2020        23.0        30.3       64.2        988.8   \n",
       "124      9  2020        26.3        28.3       51.7        996.2   \n",
       "125      2  2021        11.6        16.9       76.6        977.3   \n",
       "126      8  2020        26.4        27.9       62.6        988.9   \n",
       "\n",
       "     daily_windDir  daily_windSp  daily_DHI  daily_DNI  \n",
       "0             84.3           2.7      238.2       78.3  \n",
       "1            272.6           6.6      287.9       94.0  \n",
       "2            283.8           6.4      177.2       33.6  \n",
       "3            231.3           5.8      171.2        4.4  \n",
       "4            226.5           1.6       41.5      589.8  \n",
       "..             ...           ...        ...        ...  \n",
       "122          222.0           4.3      182.4      268.5  \n",
       "123          232.2           5.1      176.9      177.4  \n",
       "124           41.0           3.6      121.9      516.3  \n",
       "125          238.1           7.4      170.9      114.3  \n",
       "126          276.4           3.2      148.5      454.0  \n",
       "\n",
       "[127 rows x 10 columns]"
      ]
     },
     "execution_count": 12,
     "metadata": {},
     "output_type": "execute_result"
    }
   ],
   "source": [
    "X_test"
   ]
  },
  {
   "cell_type": "markdown",
   "id": "fad8593e",
   "metadata": {},
   "source": [
    "### Feature Engineering"
   ]
  },
  {
   "cell_type": "code",
   "execution_count": 13,
   "id": "3bf16698",
   "metadata": {},
   "outputs": [
    {
     "data": {
      "text/html": [
       "<div>\n",
       "<style scoped>\n",
       "    .dataframe tbody tr th:only-of-type {\n",
       "        vertical-align: middle;\n",
       "    }\n",
       "\n",
       "    .dataframe tbody tr th {\n",
       "        vertical-align: top;\n",
       "    }\n",
       "\n",
       "    .dataframe thead th {\n",
       "        text-align: right;\n",
       "    }\n",
       "</style>\n",
       "<table border=\"1\" class=\"dataframe\">\n",
       "  <thead>\n",
       "    <tr style=\"text-align: right;\">\n",
       "      <th></th>\n",
       "      <th>month</th>\n",
       "      <th>year</th>\n",
       "      <th>daily_temp</th>\n",
       "      <th>daily_rain</th>\n",
       "      <th>daily_hum</th>\n",
       "      <th>daily_press</th>\n",
       "      <th>daily_windDir</th>\n",
       "      <th>daily_windSp</th>\n",
       "      <th>daily_DHI</th>\n",
       "      <th>daily_DNI</th>\n",
       "    </tr>\n",
       "  </thead>\n",
       "  <tbody>\n",
       "  </tbody>\n",
       "</table>\n",
       "</div>"
      ],
      "text/plain": [
       "Empty DataFrame\n",
       "Columns: [month, year, daily_temp, daily_rain, daily_hum, daily_press, daily_windDir, daily_windSp, daily_DHI, daily_DNI]\n",
       "Index: []"
      ]
     },
     "execution_count": 13,
     "metadata": {},
     "output_type": "execute_result"
    }
   ],
   "source": [
    "X_train.head(0)"
   ]
  },
  {
   "cell_type": "code",
   "execution_count": 14,
   "id": "51973afd",
   "metadata": {},
   "outputs": [],
   "source": [
    "feat_eng = ColumnTransformer(\n",
    "                    [\n",
    "                        ('OneHot', OneHotEncoder(sparse=False, handle_unknown='ignore'), ['month', 'year']),\n",
    "                        ('StandardScaler', StandardScaler(), ['daily_temp', 'daily_rain', 'daily_hum',\n",
    "                                                               'daily_press', 'daily_windDir', 'daily_windSp',\n",
    "                                                                'daily_DHI', 'daily_DNI']),\n",
    "                        #('KBin', KBinsDiscretizer(n_bins=5, encode='ordinal', strategy='uniform'),\n",
    "                        #    ['daily_temp', 'daily_rain', 'daily_hum',\n",
    "                        #     'daily_press', 'daily_windDir', 'daily_windSp',\n",
    "                        #     'daily_DHI', 'daily_DNI'])\n",
    "                        #('KBin_OneHot', \n",
    "                        # make_pipeline(\n",
    "                        #    KBinsDiscretizer(n_bins=5, encode='ordinal', strategy='uniform'),\n",
    "                        #    KBinsDiscretizer(n_bins=5, encode='onehot', strategy='uniform')\n",
    "                        #              ),\n",
    "                        #['daily_temp', 'daily_rain', 'daily_hum','daily_press', 'daily_windDir',\n",
    "                        #  'daily_windSp','daily_DHI', 'daily_DNI']\n",
    "                        #)\n",
    "                        \n",
    "                    ], \n",
    "                        remainder='drop')"
   ]
  },
  {
   "cell_type": "markdown",
   "id": "b716b5d7",
   "metadata": {},
   "source": [
    "### Linear Regression"
   ]
  },
  {
   "cell_type": "markdown",
   "id": "bfa12327",
   "metadata": {},
   "source": [
    "#### Fitting and prediction (LinearRegression)"
   ]
  },
  {
   "cell_type": "code",
   "execution_count": 15,
   "id": "7cd36a39",
   "metadata": {},
   "outputs": [],
   "source": [
    "# create pipeline\n",
    "pipeline_lr = make_pipeline(feat_eng, LinearRegression())\n",
    "# fit\n",
    "pipeline_lr.fit(X_train, y_train)\n",
    "# predict\n",
    "y_pred_lr = pipeline_lr.predict(X_test)"
   ]
  },
  {
   "cell_type": "code",
   "execution_count": 16,
   "id": "1df827af",
   "metadata": {},
   "outputs": [],
   "source": [
    "#pipeline_lr.get_params()"
   ]
  },
  {
   "cell_type": "markdown",
   "id": "16f2a50b",
   "metadata": {},
   "source": [
    "#### Evaluation (LinearRegression)"
   ]
  },
  {
   "cell_type": "code",
   "execution_count": 17,
   "id": "3ad1dfd0",
   "metadata": {},
   "outputs": [],
   "source": [
    "# mean squared error\n",
    "mse_lr = mean_squared_error(y_test, y_pred_lr)\n",
    "# mean absolute error\n",
    "mae_lr = mean_absolute_error(y_test, y_pred_lr)\n",
    "# r2 score\n",
    "r2_lr = r2_score(y_test, y_pred_lr)"
   ]
  },
  {
   "cell_type": "code",
   "execution_count": 18,
   "id": "9d144611",
   "metadata": {},
   "outputs": [
    {
     "name": "stdout",
     "output_type": "stream",
     "text": [
      "Mean squared error (Linear Regression) = 673.6677460408454\n",
      "Mean absolute error (Linear Regression) = 19.345143545494384\n",
      "r2 score (Linear Regression) = 0.9621969301788144\n"
     ]
    }
   ],
   "source": [
    "print_evaluation(mse_lr, mae_lr, r2_lr, 'Linear Regression')"
   ]
  },
  {
   "cell_type": "markdown",
   "id": "a399bf8d",
   "metadata": {},
   "source": [
    "#### Plot predicted values against true values for test data (Linear Regression)"
   ]
  },
  {
   "cell_type": "code",
   "execution_count": 19,
   "id": "00f9621e",
   "metadata": {},
   "outputs": [],
   "source": [
    "# generating a regression line \n",
    "yt = y_test.to_numpy().reshape(-1,1)\n",
    "lr_model = LinearRegression()\n",
    "linear_fit = lr_model.fit(yt, y_pred_lr)\n",
    "linear_pred = linear_fit.predict(yt)"
   ]
  },
  {
   "cell_type": "code",
   "execution_count": 20,
   "id": "e2a5cd37",
   "metadata": {},
   "outputs": [
    {
     "data": {
      "image/png": "[encoded data removed]",
      "text/plain": [
       "<Figure size 1080x720 with 1 Axes>"
      ]
     },
     "metadata": {
      "needs_background": "light"
     },
     "output_type": "display_data"
    }
   ],
   "source": [
    "fig, ax = plt.subplots(1, 1, figsize=(15,10))\n",
    "\n",
    "ax.scatter(y_test, y_pred_lr, label = 'pointwise prediction')\n",
    "ax.plot(y_test, linear_pred, 'black', label='best fitting')\n",
    "\n",
    "ax.plot([y_test.min(), y_test.max()], [y_pred_lr.min(), y_pred_lr.max()], label='line @ y_pred = y_test')\n",
    "\n",
    "ax.set_xlabel('Actual solar irradiation')\n",
    "ax.set_ylabel('Predicted solar irradiation')\n",
    "ax.set_title('Linear Regression: test values vs actual values of solar irradiation')\n",
    "plt.legend(loc='upper left')\n",
    "plt.savefig(\"../pictures/lr_pred_and_fit.jpg\")\n",
    "plt.show()"
   ]
  },
  {
   "cell_type": "code",
   "execution_count": 21,
   "id": "63d0f926",
   "metadata": {},
   "outputs": [
    {
     "data": {
      "image/png": "[encoded data removed]",
      "text/plain": [
       "<Figure size 432x432 with 3 Axes>"
      ]
     },
     "metadata": {
      "needs_background": "light"
     },
     "output_type": "display_data"
    }
   ],
   "source": [
    "# seaborn jointplot\n",
    "sns.jointplot(x=y_test, y=y_pred_lr, kind='reg')\n",
    "plt.savefig('../pictures/lr_jointplot.jpg')\n",
    "plt.show()"
   ]
  },
  {
   "cell_type": "markdown",
   "id": "cabcd85b",
   "metadata": {},
   "source": [
    "### Random Forest Regressor"
   ]
  },
  {
   "cell_type": "markdown",
   "id": "9bf67934",
   "metadata": {},
   "source": [
    "#### Fitting and prediction (Random Forest Regressor)"
   ]
  },
  {
   "cell_type": "code",
   "execution_count": 22,
   "id": "d6c43665",
   "metadata": {},
   "outputs": [],
   "source": [
    "# create pipeline\n",
    "pipeline_rf = make_pipeline(feat_eng, RandomForestRegressor())\n",
    "# fit\n",
    "pipeline_rf.fit(X_train, y_train)\n",
    "# predict\n",
    "y_pred_rf = pipeline_rf.predict(X_test)"
   ]
  },
  {
   "cell_type": "markdown",
   "id": "5140130b",
   "metadata": {},
   "source": [
    "#### Evaluation (Random Forest Regressor)"
   ]
  },
  {
   "cell_type": "code",
   "execution_count": 23,
   "id": "5b1926b0",
   "metadata": {},
   "outputs": [],
   "source": [
    "mse_rf = mean_squared_error(y_test, y_pred_rf)\n",
    "mae_rf = mean_absolute_error(y_test, y_pred_rf)\n",
    "r2_rf = r2_score(y_test, y_pred_rf)"
   ]
  },
  {
   "cell_type": "code",
   "execution_count": 24,
   "id": "66223e6e",
   "metadata": {},
   "outputs": [
    {
     "name": "stdout",
     "output_type": "stream",
     "text": [
      "Mean squared error (Random Forest Regressor) = 570.8772519291331\n",
      "Mean absolute error (Random Forest Regressor) = 16.34314173228346\n",
      "r2 score (Random Forest Regressor) = 0.9679650499213671\n"
     ]
    }
   ],
   "source": [
    "print_evaluation(mse_rf, mae_rf, r2_rf, 'Random Forest Regressor')"
   ]
  },
  {
   "cell_type": "markdown",
   "id": "7f5832a4",
   "metadata": {},
   "source": [
    "#### Plot predicted values against true values for test data (Random Forest Regressor)"
   ]
  },
  {
   "cell_type": "code",
   "execution_count": 25,
   "id": "3afeb9af",
   "metadata": {},
   "outputs": [],
   "source": [
    "# generating a regression line \n",
    "linear_fit = lr_model.fit(yt, y_pred_rf)\n",
    "linear_pred = linear_fit.predict(yt)"
   ]
  },
  {
   "cell_type": "code",
   "execution_count": 26,
   "id": "c399ca07",
   "metadata": {},
   "outputs": [
    {
     "data": {
      "image/png": "[encoded data removed]",
      "text/plain": [
       "<Figure size 1080x720 with 1 Axes>"
      ]
     },
     "metadata": {
      "needs_background": "light"
     },
     "output_type": "display_data"
    }
   ],
   "source": [
    "fig, ax = plt.subplots(1, 1, figsize=(15,10))\n",
    "\n",
    "ax.scatter(y_test, y_pred_rf, label = 'pointwise prediction')\n",
    "ax.plot(y_test, linear_pred, 'black', label='best fitting')\n",
    "\n",
    "ax.plot([y_test.min(), y_test.max()], [y_pred_rf.min(), y_pred_rf.max()], label='line @ y_pred = y_test')\n",
    "\n",
    "ax.set_xlabel('Actual solar irradiation')\n",
    "ax.set_ylabel('Predicted solar irradiation')\n",
    "ax.set_title('Random Forest Regressor: test values vs actual values of solar irradiation')\n",
    "plt.legend(loc='upper left')\n",
    "plt.savefig(\"../pictures/rf_pred_and_fit.jpg\")\n",
    "plt.show()"
   ]
  },
  {
   "cell_type": "code",
   "execution_count": 27,
   "id": "bef4d756",
   "metadata": {},
   "outputs": [
    {
     "data": {
      "image/png": "[encoded data removed]",
      "text/plain": [
       "<Figure size 432x432 with 3 Axes>"
      ]
     },
     "metadata": {
      "needs_background": "light"
     },
     "output_type": "display_data"
    }
   ],
   "source": [
    "#seaborn jointplot\n",
    "sns.jointplot(x=y_test, y=y_pred_rf, kind='reg')\n",
    "plt.savefig('../pictures/rf_jointplot.jpg')\n",
    "plt.show()"
   ]
  },
  {
   "cell_type": "markdown",
   "id": "964326ef",
   "metadata": {},
   "source": [
    "### Gradient Boosting Regressor"
   ]
  },
  {
   "cell_type": "markdown",
   "id": "e6f42aa6",
   "metadata": {},
   "source": [
    "#### Fitting and prediction (Gradient Boosting Regressor)"
   ]
  },
  {
   "cell_type": "code",
   "execution_count": 28,
   "id": "07e10fa7",
   "metadata": {},
   "outputs": [],
   "source": [
    "# create pipeline\n",
    "pipeline_gbr = make_pipeline(feat_eng, GradientBoostingRegressor())\n",
    "# fit\n",
    "pipeline_gbr.fit(X_train, y_train)\n",
    "# predict\n",
    "y_pred_gbr = pipeline_gbr.predict(X_test)"
   ]
  },
  {
   "cell_type": "markdown",
   "id": "4f368bc3",
   "metadata": {},
   "source": [
    "#### Evaluation (Gradient Boosting Regressor)"
   ]
  },
  {
   "cell_type": "code",
   "execution_count": 29,
   "id": "5669cada",
   "metadata": {},
   "outputs": [],
   "source": [
    "mse_gbr = mean_squared_error(y_test, y_pred_gbr)\n",
    "mae_gbr = mean_absolute_error(y_test, y_pred_gbr)\n",
    "r2_gbr = r2_score(y_test, y_pred_gbr)"
   ]
  },
  {
   "cell_type": "code",
   "execution_count": 30,
   "id": "af6d07cd",
   "metadata": {},
   "outputs": [
    {
     "name": "stdout",
     "output_type": "stream",
     "text": [
      "Mean squared error (Gradient Boosting Regressor) = 391.6270125227549\n",
      "Mean absolute error (Gradient Boosting Regressor) = 14.502204938011586\n",
      "r2 score (Gradient Boosting Regressor) = 0.9780237314532757\n"
     ]
    }
   ],
   "source": [
    "print_evaluation(mse_gbr, mae_gbr, r2_gbr, 'Gradient Boosting Regressor')"
   ]
  },
  {
   "cell_type": "markdown",
   "id": "4c954894",
   "metadata": {},
   "source": [
    "#### Plot predicted values against true values for test data (Gradient Boosting Regressor)"
   ]
  },
  {
   "cell_type": "code",
   "execution_count": 31,
   "id": "2f4f3f6f",
   "metadata": {},
   "outputs": [],
   "source": [
    "# generating a regression line \n",
    "linear_fit = lr_model.fit(yt, y_pred_gbr)\n",
    "linear_pred = linear_fit.predict(yt)"
   ]
  },
  {
   "cell_type": "code",
   "execution_count": 32,
   "id": "2a748909",
   "metadata": {},
   "outputs": [
    {
     "data": {
      "image/png": "[encoded data removed]",
      "text/plain": [
       "<Figure size 1080x720 with 1 Axes>"
      ]
     },
     "metadata": {
      "needs_background": "light"
     },
     "output_type": "display_data"
    }
   ],
   "source": [
    "fig, ax = plt.subplots(1, 1, figsize=(15,10))\n",
    "\n",
    "ax.scatter(y_test, y_pred_gbr, label = 'pointwise prediction')\n",
    "ax.plot(y_test, linear_pred, 'black', label='best fitting')\n",
    "\n",
    "ax.plot([y_test.min(), y_test.max()], [y_pred_gbr.min(), y_pred_gbr.max()], label='line @ y_pred = y_test')\n",
    "\n",
    "ax.set_xlabel('Actual solar irradiation')\n",
    "ax.set_ylabel('Predicted solar irradiation')\n",
    "ax.set_title('Gradient Boosting Regressor: test values vs actual values of solar irradiation')\n",
    "plt.legend(loc='upper left')\n",
    "plt.savefig(\"../pictures/gbr_pred_and_fit.jpg\")\n",
    "plt.show()"
   ]
  },
  {
   "cell_type": "code",
   "execution_count": 33,
   "id": "a3765eaa",
   "metadata": {},
   "outputs": [
    {
     "data": {
      "image/png": "[encoded data removed]",
      "text/plain": [
       "<Figure size 432x432 with 3 Axes>"
      ]
     },
     "metadata": {
      "needs_background": "light"
     },
     "output_type": "display_data"
    }
   ],
   "source": [
    "#seaborn jointplot\n",
    "sns.jointplot(x=y_test, y=y_pred_gbr, kind='reg')\n",
    "plt.savefig('../pictures/gbr_jointplot.jpg')\n",
    "plt.show()"
   ]
  },
  {
   "cell_type": "markdown",
   "id": "3a4ce1db",
   "metadata": {},
   "source": [
    "### Find the best parameters and model"
   ]
  },
  {
   "cell_type": "code",
   "execution_count": 34,
   "id": "970bb415",
   "metadata": {},
   "outputs": [],
   "source": [
    "parameters = {\n",
    "    'columntransformer__OneHot':['passthrough', OneHotEncoder(handle_unknown='ignore', sparse=False)],\n",
    "    'columntransformer__StandardScaler':['passthrough', StandardScaler(), MinMaxScaler(),\n",
    "                                         Normalizer(), RobustScaler()],\n",
    "    'linearregression': [LinearRegression(), RandomForestRegressor(), GradientBoostingRegressor()]\n",
    "}"
   ]
  },
  {
   "cell_type": "code",
   "execution_count": 35,
   "id": "9bafb318",
   "metadata": {},
   "outputs": [],
   "source": [
    "grid_search = GridSearchCV(\n",
    "    estimator = pipeline_lr,\n",
    "    param_grid = parameters, \n",
    "    cv=5, \n",
    "    return_train_score=True, \n",
    "    scoring= 'neg_mean_squared_error',\n",
    "    #n_jobs=4 # use all 4 CPU cores in parallel\n",
    ")"
   ]
  },
  {
   "cell_type": "code",
   "execution_count": 36,
   "id": "ac70867d",
   "metadata": {},
   "outputs": [
    {
     "data": {
      "text/plain": [
       "GridSearchCV(cv=5,\n",
       "             estimator=Pipeline(steps=[('columntransformer',\n",
       "                                        ColumnTransformer(transformers=[('OneHot',\n",
       "                                                                         OneHotEncoder(handle_unknown='ignore',\n",
       "                                                                                       sparse=False),\n",
       "                                                                         ['month',\n",
       "                                                                          'year']),\n",
       "                                                                        ('StandardScaler',\n",
       "                                                                         StandardScaler(),\n",
       "                                                                         ['daily_temp',\n",
       "                                                                          'daily_rain',\n",
       "                                                                          'daily_hum',\n",
       "                                                                          'daily_press',\n",
       "                                                                          'daily_windDir',\n",
       "                                                                          'daily_windSp',\n",
       "                                                                          'daily_DHI',\n",
       "                                                                          'daily_DNI'])])),\n",
       "                                       ('linearregression',\n",
       "                                        Linea...\n",
       "             param_grid={'columntransformer__OneHot': ['passthrough',\n",
       "                                                       OneHotEncoder(handle_unknown='ignore',\n",
       "                                                                     sparse=False)],\n",
       "                         'columntransformer__StandardScaler': ['passthrough',\n",
       "                                                               StandardScaler(),\n",
       "                                                               MinMaxScaler(),\n",
       "                                                               Normalizer(),\n",
       "                                                               RobustScaler()],\n",
       "                         'linearregression': [LinearRegression(),\n",
       "                                              RandomForestRegressor(),\n",
       "                                              GradientBoostingRegressor()]},\n",
       "             return_train_score=True, scoring='neg_mean_squared_error')"
      ]
     },
     "execution_count": 36,
     "metadata": {},
     "output_type": "execute_result"
    }
   ],
   "source": [
    "grid_search.fit(X_train, y_train)"
   ]
  },
  {
   "cell_type": "code",
   "execution_count": 37,
   "id": "da313a1a",
   "metadata": {},
   "outputs": [],
   "source": [
    "best_params = grid_search.best_params_"
   ]
  },
  {
   "cell_type": "markdown",
   "id": "a31bb631",
   "metadata": {},
   "source": [
    "#### Best parameters and best model are..."
   ]
  },
  {
   "cell_type": "code",
   "execution_count": 38,
   "id": "0f02e7ba",
   "metadata": {},
   "outputs": [
    {
     "data": {
      "text/plain": [
       "{'columntransformer__OneHot': 'passthrough',\n",
       " 'columntransformer__StandardScaler': MinMaxScaler(),\n",
       " 'linearregression': GradientBoostingRegressor()}"
      ]
     },
     "execution_count": 38,
     "metadata": {},
     "output_type": "execute_result"
    }
   ],
   "source": [
    "best_params"
   ]
  },
  {
   "cell_type": "markdown",
   "id": "84465a6c",
   "metadata": {},
   "source": [
    "### Try again the prediction using the best parameters and best model"
   ]
  },
  {
   "cell_type": "code",
   "execution_count": 39,
   "id": "8a02110e",
   "metadata": {},
   "outputs": [],
   "source": [
    "best_feat_eng = ColumnTransformer(\n",
    "                    [\n",
    "                        ('StandardScaler', RobustScaler(), ['daily_temp', 'daily_rain', 'daily_hum',\n",
    "                                                               'daily_press', 'daily_windDir', 'daily_windSp',\n",
    "                                                                'daily_DHI', 'daily_DNI']),\n",
    "                        \n",
    "                    ], \n",
    "                        remainder='passthrough')"
   ]
  },
  {
   "cell_type": "code",
   "execution_count": 40,
   "id": "cbe5481f",
   "metadata": {},
   "outputs": [],
   "source": [
    "# create pipeline\n",
    "pipeline_gbr = make_pipeline(best_feat_eng, GradientBoostingRegressor())\n",
    "# fit\n",
    "pipeline_gbr.fit(X_train, y_train)\n",
    "# predict\n",
    "y_pred_gbr = pipeline_gbr.predict(X_test)"
   ]
  },
  {
   "cell_type": "code",
   "execution_count": 41,
   "id": "00f8621b",
   "metadata": {},
   "outputs": [],
   "source": [
    "mse_gbr = mean_squared_error(y_test, y_pred_gbr)\n",
    "mae_gbr = mean_absolute_error(y_test, y_pred_gbr)\n",
    "r2_gbr = r2_score(y_test, y_pred_gbr)"
   ]
  },
  {
   "cell_type": "code",
   "execution_count": 42,
   "id": "2a038cfd",
   "metadata": {},
   "outputs": [
    {
     "name": "stdout",
     "output_type": "stream",
     "text": [
      "Mean squared error (Gradient Boosting Regressor) = 291.9914284215888\n",
      "Mean absolute error (Gradient Boosting Regressor) = 13.462863199489494\n",
      "r2 score (Gradient Boosting Regressor) = 0.9836148124640366\n"
     ]
    }
   ],
   "source": [
    "print_evaluation(mse_gbr, mae_gbr, r2_gbr, 'Gradient Boosting Regressor')"
   ]
  },
  {
   "cell_type": "markdown",
   "id": "ada1a63a",
   "metadata": {},
   "source": [
    "<!DOCTYPE html>\n",
    "<html>\n",
    "    <body>\n",
    "<span style=\"color: green\"> Conclusions:  \n",
    "    <p>The best model for predicting daily GHI in my city is <b>Gradient Boosting Regressor</b></p>\n",
    "    <p>Best parameters for feature engineering:</p>\n",
    "    <ul>\n",
    "        <li><b>RobustScaler</b> for all features but \"month\" and \"year\".</li>\n",
    "        <li>For \"month\" and \"year\" the best strategy is <b>passtrhough</b></li>\n",
    "    </ul>\n",
    "</span>\n",
    "    </body>    \n",
    "</html>"
   ]
  },
  {
   "cell_type": "markdown",
   "id": "bcf889d0",
   "metadata": {},
   "source": [
    "### Validation of the models using validation data"
   ]
  },
  {
   "cell_type": "code",
   "execution_count": 43,
   "id": "7d8f2f08",
   "metadata": {},
   "outputs": [],
   "source": [
    "# validation data\n",
    "val_df = pd.read_csv(\"../datasets/cleaned/validation.csv\", sep=',')\n",
    "X_val = val_df.drop(columns=['daily_GHI'], axis=1)\n",
    "y_val = val_df['daily_GHI']"
   ]
  },
  {
   "cell_type": "markdown",
   "id": "4e7234ca",
   "metadata": {},
   "source": [
    "#### Prediction with linear regressor on validation data"
   ]
  },
  {
   "cell_type": "code",
   "execution_count": 44,
   "id": "af7a2155",
   "metadata": {},
   "outputs": [],
   "source": [
    "y_valPred_lr = pipeline_lr.predict(X_val)"
   ]
  },
  {
   "cell_type": "code",
   "execution_count": 45,
   "id": "9b63bee7",
   "metadata": {},
   "outputs": [
    {
     "name": "stdout",
     "output_type": "stream",
     "text": [
      "Mean squared error (Linear Regressor (validation)) = 771.79685807418\n",
      "Mean absolute error (Linear Regressor (validation)) = 22.248385223881122\n",
      "r2 score (Linear Regressor (validation)) = 0.9623345696350505\n"
     ]
    }
   ],
   "source": [
    "# evaluation linear regressor on validation data\n",
    "mse_lr = mean_squared_error(y_val, y_valPred_lr)\n",
    "mae_lr = mean_absolute_error(y_val, y_valPred_lr)\n",
    "r2_lr = r2_score(y_val, y_valPred_lr)\n",
    "\n",
    "print_evaluation(mse_lr, mae_lr, r2_lr, \"Linear Regressor (validation)\")"
   ]
  },
  {
   "cell_type": "markdown",
   "id": "2682dac7",
   "metadata": {},
   "source": [
    "#### Prediction with Random Forest on validation data"
   ]
  },
  {
   "cell_type": "code",
   "execution_count": 46,
   "id": "a317d944",
   "metadata": {},
   "outputs": [],
   "source": [
    "y_valPred_rf = pipeline_rf.predict(X_val)"
   ]
  },
  {
   "cell_type": "code",
   "execution_count": 47,
   "id": "6d61a64b",
   "metadata": {},
   "outputs": [
    {
     "name": "stdout",
     "output_type": "stream",
     "text": [
      "Mean squared error (Random Forest (validation)) = 676.1540314881888\n",
      "Mean absolute error (Random Forest (validation)) = 17.57273228346457\n",
      "r2 score (Random Forest (validation)) = 0.967002155654603\n"
     ]
    }
   ],
   "source": [
    "# evaluation Random Forest on validation data\n",
    "mse_rf = mean_squared_error(y_val, y_valPred_rf)\n",
    "mae_rf = mean_absolute_error(y_val, y_valPred_rf)\n",
    "r2_rf = r2_score(y_val, y_valPred_rf)\n",
    "\n",
    "print_evaluation(mse_rf, mae_rf, r2_rf, \"Random Forest (validation)\")"
   ]
  },
  {
   "cell_type": "markdown",
   "id": "7a9aa644",
   "metadata": {},
   "source": [
    "#### Prediction with Gradient Boosting Regressor on validation data"
   ]
  },
  {
   "cell_type": "code",
   "execution_count": 48,
   "id": "37213803",
   "metadata": {},
   "outputs": [],
   "source": [
    "# gbr using the best parameters as estimated on the previous section\n",
    "y_vaPred_gbr = pipeline_gbr.predict(X_val)"
   ]
  },
  {
   "cell_type": "code",
   "execution_count": 49,
   "id": "a80eb564",
   "metadata": {},
   "outputs": [
    {
     "name": "stdout",
     "output_type": "stream",
     "text": [
      "Mean squared error (Gradient Boosting Regressor (validation)) = 486.83326446867466\n",
      "Mean absolute error (Gradient Boosting Regressor (validation)) = 15.019389616940016\n",
      "r2 score (Gradient Boosting Regressor (validation)) = 0.976241436810276\n"
     ]
    }
   ],
   "source": [
    "mse_gbr = mean_squared_error(y_val, y_vaPred_gbr)\n",
    "mae_gbr = mean_absolute_error(y_val, y_vaPred_gbr)\n",
    "r2_gbr = r2_score(y_val, y_vaPred_gbr)\n",
    "\n",
    "print_evaluation(mse_gbr, mae_gbr, r2_gbr, \"Gradient Boosting Regressor (validation)\")"
   ]
  },
  {
   "cell_type": "markdown",
   "id": "ef5e0d31",
   "metadata": {},
   "source": [
    "### Save train, test and validation data"
   ]
  },
  {
   "cell_type": "code",
   "execution_count": 50,
   "id": "1f01d2bb",
   "metadata": {},
   "outputs": [],
   "source": [
    "data_list = [X_train, y_train, X_test, y_test, X_val, y_val] \n",
    "with open(\"../bin/var/splitted_data.pkl\", \"wb\") as datafile:\n",
    "    pickle.dump(data_list, datafile)"
   ]
  },
  {
   "cell_type": "markdown",
   "id": "3fff5fc8",
   "metadata": {},
   "source": [
    "### Export models"
   ]
  },
  {
   "cell_type": "code",
   "execution_count": 51,
   "id": "f46230de",
   "metadata": {},
   "outputs": [],
   "source": [
    "# saving linear regressor model\n",
    "pickle.dump(pipeline_lr, open(\"../bin/models/lr_model.pkl\", \"wb\"))"
   ]
  },
  {
   "cell_type": "code",
   "execution_count": 52,
   "id": "3c5a0e07",
   "metadata": {},
   "outputs": [],
   "source": [
    "# saving Random Forest Regressor model\n",
    "pickle.dump(pipeline_rf, open(\"../bin/models/rf_model.pkl\", \"wb\"))"
   ]
  },
  {
   "cell_type": "code",
   "execution_count": 53,
   "id": "0442c7c7",
   "metadata": {},
   "outputs": [],
   "source": [
    "# saving Gradient Boosting Regressor model\n",
    "pickle.dump(pipeline_gbr, open(\"../bin/models/gbr_model.pkl\", \"wb\"))\n",
    "pickle.dump(pipeline_gbr, open(\"../solar-app/app/models/gbr_model.pkl\", \"wb\"))"
   ]
  }
 ],
 "metadata": {
  "kernelspec": {
   "display_name": "Python [conda env:MLOps_Omdena]",
   "language": "python",
   "name": "conda-env-MLOps_Omdena-py"
  },
  "language_info": {
   "codemirror_mode": {
    "name": "ipython",
    "version": 3
   },
   "file_extension": ".py",
   "mimetype": "text/x-python",
   "name": "python",
   "nbconvert_exporter": "python",
   "pygments_lexer": "ipython3",
   "version": "3.9.7"
  }
 },
 "nbformat": 4,
 "nbformat_minor": 5
}
